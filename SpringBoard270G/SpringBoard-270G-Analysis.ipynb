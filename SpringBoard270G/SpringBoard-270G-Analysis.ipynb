{
 "cells": [
  {
   "cell_type": "code",
   "execution_count": 1,
   "metadata": {},
   "outputs": [
    {
     "data": {
      "text/html": [
       "<div>\n",
       "<style scoped>\n",
       "    .dataframe tbody tr th:only-of-type {\n",
       "        vertical-align: middle;\n",
       "    }\n",
       "\n",
       "    .dataframe tbody tr th {\n",
       "        vertical-align: top;\n",
       "    }\n",
       "\n",
       "    .dataframe thead th {\n",
       "        text-align: right;\n",
       "    }\n",
       "</style>\n",
       "<table border=\"1\" class=\"dataframe\">\n",
       "  <thead>\n",
       "    <tr style=\"text-align: right;\">\n",
       "      <th></th>\n",
       "      <th>What is your age?</th>\n",
       "      <th>What is your gender?</th>\n",
       "      <th>Current job status?</th>\n",
       "      <th>What is your major/job function?</th>\n",
       "      <th>Actively seeking for job?</th>\n",
       "      <th>Have you taken online courses?</th>\n",
       "      <th>If not taken any online course, why?</th>\n",
       "      <th>If not taken any online course, how likely will you take online courses in the future?</th>\n",
       "      <th>How important would you rate programming as a necessary skill for jobs?</th>\n",
       "      <th>How much are you willing to spend for an online programming course that can potentially benefit your future career?</th>\n",
       "      <th>Will you be more willing to try out the course if given a coupon or free trial?</th>\n",
       "      <th>Is there any feature that you would like to have at online course platforms?</th>\n",
       "      <th>Have you heard of Springboard?</th>\n",
       "      <th>Taking a look at the course structure below, which program are you more likely to choose?</th>\n",
       "      <th>Reason? (Or any of the criteria that caught your eye)</th>\n",
       "      <th>To what scale do you believe you are able to acquire the skill to find a better job through this choice?</th>\n",
       "    </tr>\n",
       "  </thead>\n",
       "  <tbody>\n",
       "    <tr>\n",
       "      <th>0</th>\n",
       "      <td>23.0</td>\n",
       "      <td>NaN</td>\n",
       "      <td>Undergraduate</td>\n",
       "      <td>Biochemistry</td>\n",
       "      <td>No</td>\n",
       "      <td>Yes</td>\n",
       "      <td>NaN</td>\n",
       "      <td>NaN</td>\n",
       "      <td>3</td>\n",
       "      <td>$500 ~ 1,000</td>\n",
       "      <td>Free trial for a limited time</td>\n",
       "      <td>Discussion session</td>\n",
       "      <td>Yes</td>\n",
       "      <td>Springboard Skill Track</td>\n",
       "      <td>Budget,</td>\n",
       "      <td>3</td>\n",
       "    </tr>\n",
       "    <tr>\n",
       "      <th>1</th>\n",
       "      <td>23.0</td>\n",
       "      <td>NaN</td>\n",
       "      <td>Undergraduate</td>\n",
       "      <td>NaN</td>\n",
       "      <td>NaN</td>\n",
       "      <td>No</td>\n",
       "      <td>no interest</td>\n",
       "      <td>3.0</td>\n",
       "      <td>3</td>\n",
       "      <td>$500 ~ 1,000</td>\n",
       "      <td>Coupon</td>\n",
       "      <td>professional</td>\n",
       "      <td>No</td>\n",
       "      <td>Master's Program</td>\n",
       "      <td>NaN</td>\n",
       "      <td>3</td>\n",
       "    </tr>\n",
       "    <tr>\n",
       "      <th>2</th>\n",
       "      <td>20.0</td>\n",
       "      <td>Female</td>\n",
       "      <td>Undergraduate</td>\n",
       "      <td>EECS</td>\n",
       "      <td>No</td>\n",
       "      <td>No</td>\n",
       "      <td>hard to learn from and all the classes i want ...</td>\n",
       "      <td>2.0</td>\n",
       "      <td>4</td>\n",
       "      <td>$500 ~ 1,000</td>\n",
       "      <td>my major teaches me programming sufficiently s...</td>\n",
       "      <td>no</td>\n",
       "      <td>No</td>\n",
       "      <td>Self-guided Online Courses</td>\n",
       "      <td>it's the cheapest</td>\n",
       "      <td>1</td>\n",
       "    </tr>\n",
       "    <tr>\n",
       "      <th>3</th>\n",
       "      <td>22.0</td>\n",
       "      <td>Female</td>\n",
       "      <td>Undergraduate</td>\n",
       "      <td>Economics</td>\n",
       "      <td>Yes</td>\n",
       "      <td>Yes</td>\n",
       "      <td>NaN</td>\n",
       "      <td>4.0</td>\n",
       "      <td>3</td>\n",
       "      <td>$500 ~ 1,000</td>\n",
       "      <td>Free trial for a limited time</td>\n",
       "      <td>More interaction</td>\n",
       "      <td>No</td>\n",
       "      <td>Springboard Skill Track</td>\n",
       "      <td>NaN</td>\n",
       "      <td>4</td>\n",
       "    </tr>\n",
       "    <tr>\n",
       "      <th>4</th>\n",
       "      <td>18.0</td>\n",
       "      <td>Female</td>\n",
       "      <td>Undergraduate</td>\n",
       "      <td>Bioengineering</td>\n",
       "      <td>Yes</td>\n",
       "      <td>Yes</td>\n",
       "      <td>NaN</td>\n",
       "      <td>4.0</td>\n",
       "      <td>4</td>\n",
       "      <td>$1,000 ~ 3,000</td>\n",
       "      <td>Free trial for a limited time</td>\n",
       "      <td>No</td>\n",
       "      <td>No</td>\n",
       "      <td>Springboard Skill Track</td>\n",
       "      <td>Flexible schedule with many other features for...</td>\n",
       "      <td>2</td>\n",
       "    </tr>\n",
       "  </tbody>\n",
       "</table>\n",
       "</div>"
      ],
      "text/plain": [
       "   What is your age? What is your gender? Current job status?  \\\n",
       "0               23.0                  NaN       Undergraduate   \n",
       "1               23.0                  NaN       Undergraduate   \n",
       "2               20.0               Female       Undergraduate   \n",
       "3               22.0               Female       Undergraduate   \n",
       "4               18.0               Female       Undergraduate   \n",
       "\n",
       "  What is your major/job function? Actively seeking for job?  \\\n",
       "0                    Biochemistry                         No   \n",
       "1                              NaN                       NaN   \n",
       "2                             EECS                        No   \n",
       "3                       Economics                        Yes   \n",
       "4                   Bioengineering                       Yes   \n",
       "\n",
       "  Have you taken online courses?  \\\n",
       "0                            Yes   \n",
       "1                             No   \n",
       "2                             No   \n",
       "3                            Yes   \n",
       "4                            Yes   \n",
       "\n",
       "                If not taken any online course, why?  \\\n",
       "0                                                NaN   \n",
       "1                                        no interest   \n",
       "2  hard to learn from and all the classes i want ...   \n",
       "3                                                NaN   \n",
       "4                                                NaN   \n",
       "\n",
       "   If not taken any online course, how likely will you take online courses in the future?  \\\n",
       "0                                                NaN                                        \n",
       "1                                                3.0                                        \n",
       "2                                                2.0                                        \n",
       "3                                                4.0                                        \n",
       "4                                                4.0                                        \n",
       "\n",
       "   How important would you rate programming as a necessary skill for jobs?  \\\n",
       "0                                                  3                         \n",
       "1                                                  3                         \n",
       "2                                                  4                         \n",
       "3                                                  3                         \n",
       "4                                                  4                         \n",
       "\n",
       "  How much are you willing to spend for an online programming course that can potentially benefit your future career?  \\\n",
       "0                                       $500 ~ 1,000                                                                    \n",
       "1                                       $500 ~ 1,000                                                                    \n",
       "2                                       $500 ~ 1,000                                                                    \n",
       "3                                       $500 ~ 1,000                                                                    \n",
       "4                                     $1,000 ~ 3,000                                                                    \n",
       "\n",
       "  Will you be more willing to try out the course if given a coupon or free trial?  \\\n",
       "0                      Free trial for a limited time                                \n",
       "1                                             Coupon                                \n",
       "2  my major teaches me programming sufficiently s...                                \n",
       "3                      Free trial for a limited time                                \n",
       "4                      Free trial for a limited time                                \n",
       "\n",
       "  Is there any feature that you would like to have at online course platforms?  \\\n",
       "0                                Discussion session                              \n",
       "1                                       professional                             \n",
       "2                                                 no                             \n",
       "3                                   More interaction                             \n",
       "4                                                 No                             \n",
       "\n",
       "  Have you heard of Springboard?  \\\n",
       "0                            Yes   \n",
       "1                             No   \n",
       "2                             No   \n",
       "3                             No   \n",
       "4                             No   \n",
       "\n",
       "  Taking a look at the course structure below, which program are you more likely to choose?  \\\n",
       "0                            Springboard Skill Track                                          \n",
       "1                                   Master's Program                                          \n",
       "2                         Self-guided Online Courses                                          \n",
       "3                            Springboard Skill Track                                          \n",
       "4                            Springboard Skill Track                                          \n",
       "\n",
       "  Reason? (Or any of the criteria that caught your eye)  \\\n",
       "0                                           Budget,       \n",
       "1                                                NaN      \n",
       "2                                  it's the cheapest      \n",
       "3                                                NaN      \n",
       "4  Flexible schedule with many other features for...      \n",
       "\n",
       "   To what scale do you believe you are able to acquire the skill to find a better job through this choice?  \n",
       "0                                                  3                                                         \n",
       "1                                                  3                                                         \n",
       "2                                                  1                                                         \n",
       "3                                                  4                                                         \n",
       "4                                                  2                                                         "
      ]
     },
     "execution_count": 1,
     "metadata": {},
     "output_type": "execute_result"
    }
   ],
   "source": [
    "import pandas as pd\n",
    "\n",
    "springboard = pd.read_csv(\"springboard-survey-data.csv\")\n",
    "springboard.head()"
   ]
  },
  {
   "cell_type": "code",
   "execution_count": 2,
   "metadata": {},
   "outputs": [
    {
     "data": {
      "text/plain": [
       " 23.0    17\n",
       " 22.0    15\n",
       " 19.0     7\n",
       " 21.0     4\n",
       "NaN       4\n",
       " 24.0     4\n",
       " 20.0     4\n",
       " 18.0     3\n",
       " 25.0     1\n",
       "Name: What is your age?, dtype: int64"
      ]
     },
     "execution_count": 2,
     "metadata": {},
     "output_type": "execute_result"
    }
   ],
   "source": [
    "# age\n",
    "\n",
    "springboard[\"What is your age?\"].value_counts(dropna=False)"
   ]
  },
  {
   "cell_type": "code",
   "execution_count": 3,
   "metadata": {},
   "outputs": [
    {
     "data": {
      "text/plain": [
       "<matplotlib.axes._subplots.AxesSubplot at 0x10dfba5c0>"
      ]
     },
     "execution_count": 3,
     "metadata": {},
     "output_type": "execute_result"
    },
    {
     "data": {
      "image/png": "[encoded data removed]",
      "text/plain": [
       "<Figure size 432x288 with 1 Axes>"
      ]
     },
     "metadata": {
      "needs_background": "light"
     },
     "output_type": "display_data"
    }
   ],
   "source": [
    "%matplotlib inline\n",
    "\n",
    "springboard[\"What is your age?\"].value_counts(dropna=False).plot(kind=\"bar\")"
   ]
  },
  {
   "cell_type": "code",
   "execution_count": 4,
   "metadata": {},
   "outputs": [
    {
     "data": {
      "text/plain": [
       "<matplotlib.axes._subplots.AxesSubplot at 0x11008f710>"
      ]
     },
     "execution_count": 4,
     "metadata": {},
     "output_type": "execute_result"
    },
    {
     "data": {
      "image/png": "[encoded data removed]",
      "text/plain": [
       "<Figure size 432x288 with 1 Axes>"
      ]
     },
     "metadata": {},
     "output_type": "display_data"
    }
   ],
   "source": [
    "springboard[\"What is your gender?\"].value_counts(dropna=False).plot(kind=\"pie\")"
   ]
  },
  {
   "cell_type": "code",
   "execution_count": 5,
   "metadata": {},
   "outputs": [
    {
     "data": {
      "text/plain": [
       "<matplotlib.axes._subplots.AxesSubplot at 0x1100f8198>"
      ]
     },
     "execution_count": 5,
     "metadata": {},
     "output_type": "execute_result"
    },
    {
     "data": {
      "image/png": "[encoded data removed]",
      "text/plain": [
       "<Figure size 432x288 with 1 Axes>"
      ]
     },
     "metadata": {},
     "output_type": "display_data"
    }
   ],
   "source": [
    "springboard[\"Current job status?\"].value_counts(dropna=False).plot(kind=\"pie\")"
   ]
  },
  {
   "cell_type": "code",
   "execution_count": 7,
   "metadata": {},
   "outputs": [
    {
     "data": {
      "text/plain": [
       "<matplotlib.axes._subplots.AxesSubplot at 0x1101dd470>"
      ]
     },
     "execution_count": 7,
     "metadata": {},
     "output_type": "execute_result"
    },
    {
     "data": {
      "image/png": "[encoded data removed]",
      "text/plain": [
       "<Figure size 432x288 with 1 Axes>"
      ]
     },
     "metadata": {},
     "output_type": "display_data"
    }
   ],
   "source": [
    "springboard[\"Actively seeking for job?\"].value_counts(dropna=False).plot(kind=\"pie\")"
   ]
  },
  {
   "cell_type": "code",
   "execution_count": 8,
   "metadata": {},
   "outputs": [
    {
     "data": {
      "text/plain": [
       "<matplotlib.axes._subplots.AxesSubplot at 0x1102205c0>"
      ]
     },
     "execution_count": 8,
     "metadata": {},
     "output_type": "execute_result"
    },
    {
     "data": {
      "image/png": "[encoded data removed]",
      "text/plain": [
       "<Figure size 432x288 with 1 Axes>"
      ]
     },
     "metadata": {},
     "output_type": "display_data"
    }
   ],
   "source": [
    "springboard[\"Have you taken online courses?\"].value_counts(dropna=False).plot(kind=\"pie\")"
   ]
  },
  {
   "cell_type": "code",
   "execution_count": 9,
   "metadata": {},
   "outputs": [
    {
     "data": {
      "text/plain": [
       "<matplotlib.axes._subplots.AxesSubplot at 0x110310e80>"
      ]
     },
     "execution_count": 9,
     "metadata": {},
     "output_type": "execute_result"
    },
    {
     "data": {
      "image/png": "[encoded data removed]",
      "text/plain": [
       "<Figure size 432x288 with 1 Axes>"
      ]
     },
     "metadata": {
      "needs_background": "light"
     },
     "output_type": "display_data"
    }
   ],
   "source": [
    "springboard[\"If not taken any online course, how likely will you take online courses in the future?\"].value_counts(dropna=False).plot(kind=\"bar\")"
   ]
  },
  {
   "cell_type": "code",
   "execution_count": 10,
   "metadata": {},
   "outputs": [
    {
     "data": {
      "text/plain": [
       "<matplotlib.axes._subplots.AxesSubplot at 0x1103aa518>"
      ]
     },
     "execution_count": 10,
     "metadata": {},
     "output_type": "execute_result"
    },
    {
     "data": {
      "image/png": "[encoded data removed]",
      "text/plain": [
       "<Figure size 432x288 with 1 Axes>"
      ]
     },
     "metadata": {
      "needs_background": "light"
     },
     "output_type": "display_data"
    }
   ],
   "source": [
    "springboard[\"How important would you rate programming as a necessary skill for jobs?\"].value_counts(dropna=False).plot(kind=\"bar\")"
   ]
  },
  {
   "cell_type": "code",
   "execution_count": 12,
   "metadata": {},
   "outputs": [
    {
     "data": {
      "text/plain": [
       "$500 ~ 1,000      45\n",
       "$1,000 ~ 3,000    11\n",
       ">$5,000            3\n",
       "Name: How much are you willing to spend for an online programming course that can potentially benefit your future career?, dtype: int64"
      ]
     },
     "execution_count": 12,
     "metadata": {},
     "output_type": "execute_result"
    }
   ],
   "source": [
    "springboard[\"How much are you willing to spend for an online programming course that can potentially benefit your future career?\"].value_counts(dropna=False)"
   ]
  },
  {
   "cell_type": "code",
   "execution_count": 15,
   "metadata": {},
   "outputs": [],
   "source": [
    "import numpy as np\n",
    "\n",
    "def clean_willing_cost(value):\n",
    "    if value == \">$5,000\":\n",
    "        return 5000\n",
    "    value = value.replace(\",\", \"\").replace(\"$\", \"\")\n",
    "    wcost_high, wcost_low = value.split(\" ~ \")\n",
    "    return (int(wcost_high) + int(wcost_low)) / 2"
   ]
  },
  {
   "cell_type": "code",
   "execution_count": 16,
   "metadata": {},
   "outputs": [
    {
     "data": {
      "text/plain": [
       "750.0     45\n",
       "2000.0    11\n",
       "5000.0     3\n",
       "Name: willing_cost, dtype: int64"
      ]
     },
     "execution_count": 16,
     "metadata": {},
     "output_type": "execute_result"
    }
   ],
   "source": [
    "springboard[\"willing_cost\"] = springboard[\"How much are you willing to spend for an online programming course that can potentially benefit your future career?\"].apply(clean_willing_cost)\n",
    "springboard[\"willing_cost\"].value_counts(dropna=False)"
   ]
  },
  {
   "cell_type": "code",
   "execution_count": 17,
   "metadata": {},
   "outputs": [
    {
     "data": {
      "text/plain": [
       "<matplotlib.axes._subplots.AxesSubplot at 0x110535b00>"
      ]
     },
     "execution_count": 17,
     "metadata": {},
     "output_type": "execute_result"
    },
    {
     "data": {
      "image/png": "[encoded data removed]",
      "text/plain": [
       "<Figure size 432x288 with 1 Axes>"
      ]
     },
     "metadata": {},
     "output_type": "display_data"
    }
   ],
   "source": [
    "springboard[\"Have you heard of Springboard?\"].value_counts(dropna=False).plot(kind=\"pie\")"
   ]
  },
  {
   "cell_type": "code",
   "execution_count": 19,
   "metadata": {},
   "outputs": [
    {
     "data": {
      "text/plain": [
       "Springboard Career Track      16\n",
       "Self-guided Online Courses    16\n",
       "Springboard Skill Track       13\n",
       "Master's Program               8\n",
       "Bootcamp                       6\n",
       "Name: Taking a look at the course structure below, which program are you more likely to choose?, dtype: int64"
      ]
     },
     "execution_count": 19,
     "metadata": {},
     "output_type": "execute_result"
    }
   ],
   "source": [
    "springboard[\"Taking a look at the course structure below, which program are you more likely to choose?\"].value_counts(dropna=False)"
   ]
  },
  {
   "cell_type": "code",
   "execution_count": 20,
   "metadata": {},
   "outputs": [
    {
     "data": {
      "text/plain": [
       "{(750.0, 'Bootcamp'): Int64Index([8, 23, 44, 52], dtype='int64'),\n",
       " (750.0,\n",
       "  \"Master's Program\"): Int64Index([1, 14, 15, 32, 47, 51], dtype='int64'),\n",
       " (750.0,\n",
       "  'Self-guided Online Courses'): Int64Index([2, 9, 10, 13, 25, 37, 39, 45, 53, 54, 55, 56, 57], dtype='int64'),\n",
       " (750.0,\n",
       "  'Springboard Career Track'): Int64Index([7, 11, 17, 20, 21, 22, 24, 26, 31, 33, 41, 50], dtype='int64'),\n",
       " (750.0,\n",
       "  'Springboard Skill Track'): Int64Index([0, 3, 5, 6, 19, 34, 36, 38, 46, 48], dtype='int64'),\n",
       " (2000.0, 'Bootcamp'): Int64Index([16], dtype='int64'),\n",
       " (2000.0, \"Master's Program\"): Int64Index([18], dtype='int64'),\n",
       " (2000.0,\n",
       "  'Self-guided Online Courses'): Int64Index([12, 28, 40], dtype='int64'),\n",
       " (2000.0,\n",
       "  'Springboard Career Track'): Int64Index([27, 30, 42, 49], dtype='int64'),\n",
       " (2000.0, 'Springboard Skill Track'): Int64Index([4, 43], dtype='int64'),\n",
       " (5000.0, 'Bootcamp'): Int64Index([29], dtype='int64'),\n",
       " (5000.0, \"Master's Program\"): Int64Index([58], dtype='int64'),\n",
       " (5000.0, 'Springboard Skill Track'): Int64Index([35], dtype='int64')}"
      ]
     },
     "execution_count": 20,
     "metadata": {},
     "output_type": "execute_result"
    }
   ],
   "source": [
    "wcost_and_program = springboard.groupby([\"willing_cost\", \"Taking a look at the course structure below, which program are you more likely to choose?\"])\n",
    "wcost_and_program.groups"
   ]
  },
  {
   "cell_type": "code",
   "execution_count": 21,
   "metadata": {},
   "outputs": [
    {
     "data": {
      "text/plain": [
       "willing_cost  Taking a look at the course structure below, which program are you more likely to choose?\n",
       "750.0         Bootcamp                                                                                      4\n",
       "              Master's Program                                                                              6\n",
       "              Self-guided Online Courses                                                                   13\n",
       "              Springboard Career Track                                                                     12\n",
       "              Springboard Skill Track                                                                      10\n",
       "2000.0        Bootcamp                                                                                      1\n",
       "              Master's Program                                                                              1\n",
       "              Self-guided Online Courses                                                                    3\n",
       "              Springboard Career Track                                                                      4\n",
       "              Springboard Skill Track                                                                       2\n",
       "5000.0        Bootcamp                                                                                      1\n",
       "              Master's Program                                                                              1\n",
       "              Springboard Skill Track                                                                       1\n",
       "dtype: int64"
      ]
     },
     "execution_count": 21,
     "metadata": {},
     "output_type": "execute_result"
    }
   ],
   "source": [
    "wcost_and_program.size()"
   ]
  },
  {
   "cell_type": "code",
   "execution_count": 22,
   "metadata": {},
   "outputs": [
    {
     "data": {
      "text/plain": [
       "What is your gender?  Taking a look at the course structure below, which program are you more likely to choose?\n",
       "Female                Bootcamp                                                                                      3\n",
       "                      Master's Program                                                                              4\n",
       "                      Self-guided Online Courses                                                                   12\n",
       "                      Springboard Career Track                                                                      9\n",
       "                      Springboard Skill Track                                                                       7\n",
       "Male                  Bootcamp                                                                                      3\n",
       "                      Master's Program                                                                              1\n",
       "                      Self-guided Online Courses                                                                    4\n",
       "                      Springboard Career Track                                                                      6\n",
       "                      Springboard Skill Track                                                                       5\n",
       "agender               Master's Program                                                                              1\n",
       "dtype: int64"
      ]
     },
     "execution_count": 22,
     "metadata": {},
     "output_type": "execute_result"
    }
   ],
   "source": [
    "gender_and_program = springboard.groupby([\"What is your gender?\", \"Taking a look at the course structure below, which program are you more likely to choose?\"])\n",
    "gender_and_program.size()"
   ]
  },
  {
   "cell_type": "code",
   "execution_count": 23,
   "metadata": {},
   "outputs": [
    {
     "data": {
      "text/plain": [
       "<matplotlib.axes._subplots.AxesSubplot at 0x1106bd550>"
      ]
     },
     "execution_count": 23,
     "metadata": {},
     "output_type": "execute_result"
    },
    {
     "data": {
      "image/png": "[encoded data removed]",
      "text/plain": [
       "<Figure size 432x288 with 1 Axes>"
      ]
     },
     "metadata": {
      "needs_background": "light"
     },
     "output_type": "display_data"
    }
   ],
   "source": [
    "gender_and_program[\"willing_cost\"].agg(np.mean).plot(kind=\"bar\")"
   ]
  },
  {
   "cell_type": "code",
   "execution_count": null,
   "metadata": {},
   "outputs": [],
   "source": []
  }
 ],
 "metadata": {
  "kernelspec": {
   "display_name": "Python 3",
   "language": "python",
   "name": "python3"
  },
  "language_info": {
   "codemirror_mode": {
    "name": "ipython",
    "version": 3
   },
   "file_extension": ".py",
   "mimetype": "text/x-python",
   "name": "python",
   "nbconvert_exporter": "python",
   "pygments_lexer": "ipython3",
   "version": "3.7.0"
  }
 },
 "nbformat": 4,
 "nbformat_minor": 2
}
